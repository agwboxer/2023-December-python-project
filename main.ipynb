import numpy as np
import matplotlib.pyplot as plt
import matplotlib.animation as animation
from IPython.display import HTML, display, clear_output
import ipywidgets as widgets
from scipy.optimize import curve_fit


class Derivatives:
    """
    Calculate derivatives for the simple pendulum equations

    Parameters:
    - theta (float): Current angular position of the pendulum
    - omega (float): Current angular velocity of the pendulum
    - L (float): Length of the pendulum
    - g (float): Acceleration due to gravity
    - damping (float): Damping factor affecting the motion
    - driving_force (float): External driving force applied

    Returns:
    - float: The derivative of angular velocity with respect to time
    """

    def __init__(self, theta, omega, L, g, damping, driving_force):
        self.theta = theta
        self.omega = omega
        self.L = L
        self.g = g
        self.damping = damping
        self.driving_force = driving_force

    def domega_dt(self):
        """
        Calculate the derivative of angular velocity with respect to time

        Returns:
        - float: The derivative of angular velocity with respect to time
        """
        return -(np.sin(self.theta) * (self.g / self.L)) - (self.damping * self.omega) + self.driving_force

    def d_dt(self):
        """
        Calculate both derivatives: dtheta_dt and domega_dt

        Returns:
        - tuple: Tuple containing the derivatives dtheta_dt and domega_dt
        """
        dtheta_dt = self.omega
        domega_dt = -((self.g / self.L) * np.sin(self.theta)) - (self.damping * self.omega) + self.driving_force
        return dtheta_dt, domega_dt

class SimplePendulum:
    """
    Model a simple pendulum and solve its motion equations using Euler and Runge-Kutta methods

    Parameters:
    - theta_0 (float): Initial angular position of the pendulum
    - omega_0 (float): Initial angular velocity of the pendulum
    - L (float): Length of the pendulum
    - n (int): Number of time steps for simulation
    - damping (float): Damping factor affecting the motion
    - driving_force (float): External driving force applied

    Returns:
    - object: Instance of SimplePendulum class
    """

    def __init__(self, theta_0, omega_0, L, n, damping, driving_force):
        self.theta_0 = theta_0
        self.omega_0 = omega_0
        self.L = L
        self.n = n
        self.dt = 0.01
        self.g = 9.81
        self.time_ = np.zeros(self.n)
        self.omega_ = np.zeros(self.n)
        self.theta_ = np.zeros(self.n)
        self.omega_[0] = self.omega_0
        self.theta_[0] = self.theta_0 * np.pi / 180.0
        self.damping = damping
        self.driving_force = driving_force

    def euler_method(self):
        """
        Solve the pendulum motion equations using the Euler method

        Returns:
        - object: Instance of SimplePendulum class with updated values
        """
        for i in range(self.n - 1):
            self.time_[i + 1] = self.time_[i] + self.dt
            self.omega_[i + 1] = self.omega_[i] + self.dt * Derivatives(self.theta_[i], self.omega_[i], self.L, self.g,
                                                                        self.damping, self.driving_force).domega_dt()
            self.theta_[i + 1] = self.theta_[i] + self.dt * self.omega_[i]
        return self

    def runge_kutta_method(self):
        """
        Solve the pendulum motion equations using the Runge-Kutta method

        Returns:
        - object: Instance of SimplePendulum class with updated values
        """
        k1_theta, k1_omega = Derivatives(self.theta_[0], self.omega_[0], self.L, self.g, self.damping,
                                         self.driving_force).d_dt()

        for i in range(self.n - 1):
            self.time_[i + 1] = self.time_[i] + self.dt

            k2_theta, k2_omega = Derivatives(self.theta_[i] + 0.5 * self.dt * k1_theta,
                                             self.omega_[i] + 0.5 * self.dt * k1_omega, self.L, self.g, self.damping,
                                             self.driving_force).d_dt()

            k3_theta, k3_omega = Derivatives(self.theta_[i] + 0.5 * self.dt * k2_theta,
                                             self.omega_[i] + 0.5 * self.dt * k2_omega, self.L, self.g, self.damping,
                                             self.driving_force).d_dt()

            k4_theta, k4_omega = Derivatives(self.theta_[i] + self.dt * k3_theta,
                                             self.omega_[i] + self.dt * k3_omega, self.L, self.g, self.damping,
                                             self.driving_force).d_dt()

            self.theta_[i + 1] = self.theta_[i] + (self.dt / 6) * (k1_theta + 2 * k2_theta + 2 * k3_theta + k4_theta)
            self.omega_[i + 1] = self.omega_[i] + (self.dt / 6) * (k1_omega + 2 * k2_omega + 2 * k3_omega + k4_omega)

            k1_theta, k1_omega = Derivatives(self.theta_[i + 1], self.omega_[i + 1], self.L, self.g, self.damping,
                                             self.driving_force).d_dt()
            

        return self


class PendulumAnimate:
    """
    Animate the pendulum motion using Matplotlib animations

    Parameters:
    - theta_0 (float): Initial angular position of the pendulum
    - omega_0 (float): Initial angular velocity of the pendulum
    - L (float): Length of the pendulum
    - n (int): Number of time steps for simulation
    - damping (float): Damping factor affecting the motion
    - driving_force (float): External driving force applied

    Returns:
    - object: Instance of PendulumAnimate class
    """

    def __init__(self, theta_0, omega_0, L, n, damping, driving_force):
        self.theta_0 = theta_0
        self.omega_0 = omega_0
        self.L = L
        self.n = n
        self.damping = damping
        self.driving_force = driving_force
        self.dt = 0.01
        self.g = 9.81

    def pendulum_position(self, theta):
        """
        Calculate the position (x, y) of the pendulum bob

        Parameters:
        - theta (float): Angular position of the pendulum

        Returns:
        - tuple: Tuple containing the x and y coordinates of the pendulum bob
        """
        x = self.L * np.sin(theta)
        y = -self.L * np.cos(theta)
        return x, y

    def initial_pendulum(self):
        """
        Set up the initial pendulum configuration for animation
        """
        self.fig = plt.figure()
        self.ax = self.fig.add_subplot(aspect='equal')
        x_0, y_0 = self.pendulum_position(self.theta_0)
        self.line, = self.ax.plot([0, x_0], [0, y_0], lw=3, c='k')
        pend_radius = self.L * 0.06
        self.circle = self.ax.add_patch(plt.Circle(self.pendulum_position(self.theta_0), pend_radius,
                                                   fc='r', zorder=3))
        self.ax.set_xlim(-self.L * 1.2, self.L * 1.2)
        self.ax.set_ylim(-self.L * 1.2, self.L * 1.2)

    def animate(self, i):
        """
        Animation function for Euler method
        """
        theta = SimplePendulum(self.theta_0, self.omega_0, self.L, self.n, self.damping,
                                self.driving_force).euler_method().theta_
        x, y = self.pendulum_position(theta[i])
        self.line.set_data([0, x], [0, y])
        self.circle.set_center((x, y))

    def animate_plot(self):
        """
        Animate the pendulum motion using Euler method
        """
        ani = animation.FuncAnimation(self.fig, self.animate, frames=self.n, repeat=True,
                                      interval=self.dt * 1000)
        html_video = HTML(ani.to_jshtml())
        display(html_video)
        plt.close()

    def animate_rk4(self, i):
        """
        Animation function for Runge-Kutta method
        """
        theta = SimplePendulum(self.theta_0, self.omega_0, self.L, self.n, self.damping,
                               self.driving_force).runge_kutta_method().theta_
        x, y = self.pendulum_position(theta[i])
        self.line.set_data([0, x], [0, y])
        self.circle.set_center((x, y))

    def animate_plot_rk4(self):
        """
        Animate the pendulum motion using Runge-Kutta method
        """
        ani = animation.FuncAnimation(self.fig, self.animate_rk4, frames=self.n, repeat=True,
                                      interval=self.dt * 1000)
        html_video = HTML(ani.to_jshtml())
        display(html_video)
        plt.close()

def plot_comparison(theta, omega, L, n, damping, driving_force, show_plot=True):
    pendulum_euler = SimplePendulum(theta, omega, L, n, damping, driving_force)
    pendulum_euler.euler_method()

    pendulum_rk4 = SimplePendulum(theta, omega, L, n, damping, driving_force)
    pendulum_rk4.runge_kutta_method()

    
    if show_plot:
        fig, ax = plt.subplots(figsize=(10, 6))
        plt.plot(pendulum_euler.time_, pendulum_euler.theta_ * (180 / np.pi), label='Euler Method')
        plt.plot(pendulum_rk4.time_, pendulum_rk4.theta_ * (180 / np.pi), label='Runge-Kutta Method')
        
        plt.title('Pendulum Motion - Euler vs Runge-Kutta')
        plt.xlabel('Time (s)')
        plt.ylabel('Angle (degrees)')
        plt.legend()
        plt.grid(True)
        
        # Calculate relative error
        relative_error = np.abs(pendulum_euler.theta_ - pendulum_rk4.theta_) / np.abs(pendulum_rk4.theta_)
    
        # Print maximum relative error
        relative_error = np.average(relative_error)
        print(f"Average Relative Error: {relative_error:.4f}")

def update(theta=45, omega=0, L=1, n=1500, damping=0, driving_force=0, show_plot=True):
    """
    Update and display results for both methods to compare the two.

    Parameters:
    - theta (float): Initial angle in degrees
    - omega (float): Initial angular velocity
    - L (float): Length of the pendulum
    - n (int): Number of time steps
    - damping (float): Damping coefficient
    - driving_force (float): External driving force
    - show_plot (bool): Flag to control whether to display the plot

    Returns:
    - Tuple of updated parameters: (theta, omega, L, n, damping, driving_force)
    """

    plot_comparison(theta, omega, L, n, damping, driving_force, show_plot)
    return theta, omega, L, n, damping, driving_force


# Dropdown widget for method selection
method_selector = widgets.Dropdown(
    options=[' ', 'Euler', 'Runge Kutta'],
    value=' ',
    description='Methods:'
)

# Output container for sliders
container_sliders = widgets.Output()


def on_method_change(change):
    """
    Handle changes when a different method is selected

    Parameters:
    - change (dict): Dictionary containing information about the change
    """
    with container_sliders:
        # Clear previous output
        clear_output(wait=True)

        # Display sliders for Euler method
        if change['new'] == 'Euler':
            display(widgets.interact_manual(update,
                                            theta=(0, 90, 1),
                                            omega=(0, 0.5, 0.01), 
                                            L=(0, 10, 0.1), 
                                            n=(100, 3000, 10), 
                                            damping=(0, 0.5, 0.01), 
                                            driving_force=(0, 1, 0.01),
                                            show_plot=widgets.fixed(True)))
            # Create and display Euler animation and comparison data
            theta_0, omega_0, L, n, damping, driving_force = update(show_plot=False)
            plt.rcParams['animation.embed_limit'] = 2 ** 128
            pendulum = PendulumAnimate(theta_0, omega_0, L, n, damping, driving_force)
            pendulum.initial_pendulum()
            pendulum.animate_plot()
            

        elif change['new'] == 'Runge Kutta':
            # Display sliders for Runge-Kutta method
            display(widgets.interact_manual(update,
                                            theta=(0, 90, 1), 
                                            omega=(0, 0.5, 0.01), 
                                            L=(0, 10, 0.1),
                                            n=(100, 3000, 10), 
                                            damping=(0, 0.5, 0.01), 
                                            driving_force=(0, 1, 0.01),
                                            show_plot=widgets.fixed(True)))
            # Create and display Runge-Kutta animation and comparison data
            theta_0, omega_0, L, n, damping, driving_force = update(show_plot=False)
 
            pendulum = PendulumAnimate(theta_0, omega_0, L, n, damping, driving_force)
            pendulum.initial_pendulum()
            pendulum.animate_plot_rk4()


# Observe method selector changes
method_selector.observe(on_method_change, names='value')

# Display method selector and sliders container
display(method_selector)
display(container_sliders)

# Trigger initial update based on the default method
on_method_change({'new': method_selector.value})
